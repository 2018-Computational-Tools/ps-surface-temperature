{
 "cells": [
  {
   "cell_type": "markdown",
   "metadata": {},
   "source": [
    "## Usage\n",
    "\n",
    "<div style=\"background: #efffed;\n",
    "            border: 1px solid grey;\n",
    "            margin: 8px 0 8px 0;\n",
    "            text-align: center;\n",
    "            padding: 8px; \">\n",
    "    <i class=\"fa-play fa\" \n",
    "       style=\"font-size: 40px;\n",
    "              line-height: 40px;\n",
    "              margin: 8px;\n",
    "              color: #444;\">\n",
    "    </i>\n",
    "    <center>\n",
    "    To run the selected code cell, hit <pre style=\"background: #efffed\">Shift + Enter</pre>\n",
    "    </center>\n",
    "</div>"
   ]
  },
  {
   "cell_type": "markdown",
   "metadata": {},
   "source": [
    "# Radiation\n",
    "\n",
    "Here we ask what the surface temperature of a planet, with a mean albedo, at some distance $R_o$ from a star of radius $R_s$, will be if the star is emitting with a peak wavelength of $\\lambda_{pk}$.  The ingredients to the problem, discussed in chapter 1 of the Geomechanics Notes, include the inverse square law, Wien's displacement law, and the Stefan-Boltzmann law of radiation. By the end of the exercise we wish to combine these to calculate the surface temperature, and then we can turn it around and ask at what distance from a star of known peak radiative wavelength a planet must be in order to have a surface temperature near the freezing point of water, 273.15K. As this is termed the habitable zone, and the surface temperature is just right there, it is also called the Goldilocks Zone.\n",
    "\n",
    "The Stefan-Boltzmann law says:\n",
    "\n",
    "$E = \\sigma T^4$\n",
    "\n",
    "where $E$ is ..., $\\sigma$ is ..., and $T$ is ..."
   ]
  },
  {
   "cell_type": "code",
   "execution_count": null,
   "metadata": {},
   "outputs": [],
   "source": [
    "# arrays: Numpy\n",
    "\n",
    "import numpy\n",
    "import pylab\n",
    "import random"
   ]
  },
  {
   "cell_type": "code",
   "execution_count": null,
   "metadata": {},
   "outputs": [],
   "source": [
    "# all of the required numbers for the calculation\n",
    "\n",
    "sigma = 5.67e-8; # stefan-boltzmann constant\n",
    "Ro = 1.496e8 # km radius of the orbit (1.5e8 for earth)\n",
    "Rs = 0.696e6 # radius of the star\n",
    "albedo = 0.3 # mean albedo of the planet\n",
    "lambda_pk = 0.5 # peak wavelength of radiation from the star in microns\n",
    "a = 2898 # constant in Wien's law if radiation wavelength is in microns"
   ]
  },
  {
   "cell_type": "code",
   "execution_count": null,
   "metadata": {},
   "outputs": [],
   "source": [
    "# First we calculate the temperature of the star's surface\n",
    "# knowing the measured peak wavelength of the radiation from the star\n",
    "Ts = a/lambda_pk # temperature in Kelvins"
   ]
  },
  {
   "cell_type": "code",
   "execution_count": null,
   "metadata": {},
   "outputs": [],
   "source": [
    "Ts"
   ]
  },
  {
   "cell_type": "code",
   "execution_count": null,
   "metadata": {},
   "outputs": [],
   "source": [
    "# Now show this in a plot to see what Wien's Law looks like\n",
    "\n",
    "# create an arry of wavelengths\n",
    "lambda_max = 20  # length of domain, m\n",
    "dlambda = 0.25     # distance interval, m\n",
    "lambda_plot = numpy.arange(dlambda, lambda_max, dlambda)\n",
    "    \n",
    "Ts_plot = a/lambda_plot # temperature in Kelvins for each wavelength in the array\n",
    "    \n",
    "# and then plot it    \n",
    "pylab.plot(lambda_plot, Ts_plot, 'co-')\n",
    "pylab.plot(lambda_pk, Ts, 'k*',markersize=12)\n",
    "pylab.xlabel('Wavelength (microns)',fontsize=18)\n",
    "pylab.ylabel('Surface temperature (K)',fontsize=18)\n",
    "pylab.title(\"Wien's Law\",fontsize = 20)\n",
    "pylab.show()\n",
    "\n",
    "# I plot it this way because what we MEASURE is the wavelength, \n",
    "# and what we INFER from that measurment is the surface temperature"
   ]
  },
  {
   "cell_type": "code",
   "execution_count": null,
   "metadata": {},
   "outputs": [],
   "source": [
    "# Now calculate the energy flux from the star's surface using the Stefan-Boltzmann Law\n",
    "Qs = sigma*(Ts**4) # in Watts/square meter"
   ]
  },
  {
   "cell_type": "markdown",
   "metadata": {},
   "source": [
    "This Stefan-Boltzmann Law is very sensitive to the surface temperature of the radiating body. Here we plot it to demonstrate this sensitivity."
   ]
  },
  {
   "cell_type": "code",
   "execution_count": null,
   "metadata": {},
   "outputs": [],
   "source": [
    "Ts_max = 8000  \n",
    "dTs = 100     # distance interval, millions of km\n",
    "Ts_plot = numpy.arange(100, Ts_max, dTs)\n",
    "    \n",
    "Qs_plot = sigma*(Ts_plot**4) # in Watts/square meter\n",
    "\n",
    "pylab.plot(Ts_plot, Qs_plot/1e6, 'r-')\n",
    "pylab.plot(Ts, Qs/1e6, 'k*',markersize=12)\n",
    "pylab.xlabel('Surface temperature (K)',fontsize=18)\n",
    "pylab.ylabel('Energy flux, Q (MWatts/m2)',fontsize=18)\n",
    "pylab.title(\"Stefan-Boltzmann Law\",fontsize = 20)\n",
    "#pylab.axes().set_aspect('equal', 'datalim')\n",
    "pylab.show()"
   ]
  },
  {
   "cell_type": "markdown",
   "metadata": {},
   "source": [
    "This sensitivity is extreme.  It is often useful in such cases to plot it not on linear-linear axes but on log-log axes. The slope on such plots is in fact the power in a powerlaw relationship.  Here it should be 4."
   ]
  },
  {
   "cell_type": "code",
   "execution_count": null,
   "metadata": {},
   "outputs": [],
   "source": [
    "pylab.loglog(Ts_plot, Qs_plot/1e6, 'r-')\n",
    "pylab.loglog(Ts, Qs/1e6, 'k*',markersize=12)\n",
    "pylab.xlabel('Surface temperature (K)',fontsize=18)\n",
    "pylab.ylabel('Energy flux, Q (MWatts/m2)',fontsize=18)\n",
    "pylab.title(\"Stefan-Boltzmann Law\",fontsize = 20)\n",
    "pylab.grid(color='g', linestyle='--', linewidth=1)\n",
    "pylab.show()"
   ]
  },
  {
   "cell_type": "markdown",
   "metadata": {},
   "source": [
    "You should be able to inspect this plot and determine that the slope is in fact 4. (rise of 4 units for every run of 1 unit, here the units being factors of 10)"
   ]
  },
  {
   "cell_type": "code",
   "execution_count": null,
   "metadata": {},
   "outputs": [],
   "source": [
    "Qs"
   ]
  },
  {
   "cell_type": "code",
   "execution_count": null,
   "metadata": {},
   "outputs": [],
   "source": [
    "# Now calculate the energy flux Qo at a distance from star of Ro, the radius of the orbit\n",
    "# Here we employ the inverse square law\n",
    "\n",
    "Qo = Qs * ((Rs/Ro)**2) # for Earth this is called the solar constant, again in W/m2"
   ]
  },
  {
   "cell_type": "code",
   "execution_count": null,
   "metadata": {},
   "outputs": [],
   "source": [
    "Qo"
   ]
  },
  {
   "cell_type": "markdown",
   "metadata": {},
   "source": [
    "Let's now explore at what this inverse square law looks like. We expect that the flux falls off with distance from the star, but what does it actually look like?"
   ]
  },
  {
   "cell_type": "code",
   "execution_count": null,
   "metadata": {},
   "outputs": [],
   "source": [
    "R_max = 1000  \n",
    "dR = 25     # distance interval, millions of km\n",
    "R_plot = numpy.arange(2*dR, R_max, dR)\n",
    "    \n",
    "Q_plot = Qs * (((Rs/1e6)/R_plot)**2) # temperature in Kelvins\n",
    "    \n",
    "pylab.plot(R_plot, Q_plot, 'ro-')\n",
    "pylab.plot(Ro/1e6, Qo, 'k*',markersize=12)\n",
    "pylab.xlabel('Distance from star (millions of kilometers)',fontsize=18)\n",
    "pylab.ylabel('Energy flux, Q (Watts/sq.meter)',fontsize=18)\n",
    "pylab.title(\"Inverse Square Law\",fontsize = 20)\n",
    "#pylab.axes().set_aspect('equal', 'datalim')\n",
    "pylab.show()"
   ]
  },
  {
   "cell_type": "code",
   "execution_count": null,
   "metadata": {},
   "outputs": [],
   "source": [
    "# calculate the surface temperature of the planet \n",
    "# employing an energy balance and the planet's albedo\n",
    "To = (Qo**0.25) * ((1-albedo)/(4*sigma))**(0.25)"
   ]
  },
  {
   "cell_type": "code",
   "execution_count": null,
   "metadata": {},
   "outputs": [],
   "source": [
    "To"
   ]
  },
  {
   "cell_type": "code",
   "execution_count": null,
   "metadata": {},
   "outputs": [],
   "source": [
    "# or in celcius\n",
    "T = To-273.15"
   ]
  },
  {
   "cell_type": "code",
   "execution_count": null,
   "metadata": {},
   "outputs": [],
   "source": [
    "T"
   ]
  },
  {
   "cell_type": "markdown",
   "metadata": {},
   "source": [
    "It's Goldilocks time!  We wish now to calculate the orbital distance required for a planet oribiting another star, whose peak radiative wavelength we can measure, at which water would be close to the triple point, T=273.15K.  So we solve the temperature equation used above, plugging in this specified surface temperature, for the unknown orbital distance R."
   ]
  },
  {
   "cell_type": "code",
   "execution_count": null,
   "metadata": {},
   "outputs": [],
   "source": [
    "lambda_star_max = 1.5  # wavelength maximum, microns\n",
    "dlambda_star = 0.05     # wavelength interval, microns\n",
    "lambda_star_plot = numpy.arange(5*dlambda_star, lambda_star_max, dlambda_star)\n",
    "\n",
    "# and we will use some alternative albedos just to put brackets around it\n",
    "albedo1 = 0.5\n",
    "albedo2 = 0.1\n",
    "Rstar = Rs # assumes the star is the same size and our sun\n",
    "R = Rstar * (a/(273.15*lambda_star_plot))**(2.0) * ((1-albedo)/4)**0.5\n",
    "R1 = Rstar * (a/(273.15*lambda_star_plot))**(2.0) * ((1-albedo1)/4)**0.5\n",
    "R2 = Rstar * (a/(273.15*lambda_star_plot))**(2.0) * ((1-albedo2)/4)**0.5\n",
    "# Note that again this is an inverse square relationship...no wonder it looks the same\n",
    "# as the inverse square law on the plot below!"
   ]
  },
  {
   "cell_type": "code",
   "execution_count": null,
   "metadata": {},
   "outputs": [],
   "source": [
    "pylab.plot(lambda_star_plot, R/1e6, 'lightseagreen')\n",
    "pylab.plot(lambda_star_plot, R1/1e6, 'r--')\n",
    "pylab.plot(lambda_star_plot, R2/1e6, 'b--')\n",
    "pylab.plot(lambda_pk,Ro/1e6,'k*',markersize=14)\n",
    "pylab.xlabel('Peak wavelength (microns)',fontsize=18)\n",
    "pylab.ylabel('Orbital distance (million km)',fontsize=18)\n",
    "pylab.title(\"Goldilocks Zone\",fontsize = 20)\n",
    "pylab.show()"
   ]
  }
 ],
 "metadata": {
  "kernelspec": {
   "display_name": "Python 3",
   "language": "python",
   "name": "python3"
  },
  "language_info": {
   "codemirror_mode": {
    "name": "ipython",
    "version": 3
   },
   "file_extension": ".py",
   "mimetype": "text/x-python",
   "name": "python",
   "nbconvert_exporter": "python",
   "pygments_lexer": "ipython3",
   "version": "3.6.5"
  },
  "toc-autonumbering": false
 },
 "nbformat": 4,
 "nbformat_minor": 2
}
